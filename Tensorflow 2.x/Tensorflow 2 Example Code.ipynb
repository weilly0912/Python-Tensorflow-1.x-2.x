{
 "cells": [
  {
   "cell_type": "markdown",
   "metadata": {},
   "source": [
    "# TF2 動態圖概念 -Weilly"
   ]
  },
  {
   "cell_type": "code",
   "execution_count": 2,
   "metadata": {},
   "outputs": [
    {
     "name": "stdout",
     "output_type": "stream",
     "text": [
      "a + b = [[3.]]\n",
      "c + d = [[7.]]\n",
      "b * c = [[6.]]\n",
      "a + b + (b*c) = [[9.]]\n"
     ]
    }
   ],
   "source": [
    "#Tensorflow2.x eager\n",
    "#重大改變 : https://medium.com/%E8%BB%9F%E9%AB%94%E4%B9%8B%E5%BF%83/tensorflow-%E5%8C%85%E8%A3%9D%E5%86%8D%E5%8D%87%E7%B4%9A-tensorflow-2-0%E7%9A%84%E9%87%8D%E5%A4%A7%E6%94%B9%E8%AE%8A-e0cc658b492\n",
    "#執行圖用法 : https://blog.csdn.net/weixin_39506322/article/details/82316423\n",
    "import tensorflow as tf\n",
    "a= [[1.]]\n",
    "b= [[2.]]\n",
    "c= [[3.]]\n",
    "d= [[4.]]\n",
    "\n",
    "add_1 = tf.add(a,b)\n",
    "add_2 = tf.add(c,d)\n",
    "mul_1 = tf.multiply(b,c)\n",
    "output = tf.add(add_1,mul_1)\n",
    "\n",
    "print(\"a + b = {}\".format(add_1))\n",
    "print(\"c + d = {}\".format(add_2))\n",
    "print(\"b * c = {}\".format(mul_1))\n",
    "print(\"a + b + (b*c) = {}\".format(output))\n"
   ]
  },
  {
   "cell_type": "code",
   "execution_count": 3,
   "metadata": {},
   "outputs": [
    {
     "name": "stdout",
     "output_type": "stream",
     "text": [
      "Vc = 1\n",
      "Vx = <tf.Variable 'Vx:0' shape=() dtype=int32, numpy=6>\n"
     ]
    }
   ],
   "source": [
    "#Tensorflow2.x eager -2\n",
    "Vc = tf.constant(1,name='Vc') #宣告常數\n",
    "Vx = tf.Variable(Vc+5,name='Vx') #宣告變數\n",
    "print(\"Vc = {}\".format(Vc))\n",
    "print(\"Vx = {}\".format(Vx))"
   ]
  },
  {
   "cell_type": "code",
   "execution_count": 4,
   "metadata": {},
   "outputs": [
    {
     "name": "stdout",
     "output_type": "stream",
     "text": [
      "tf.Tensor([[2.]], shape=(1, 1), dtype=float32)\n"
     ]
    }
   ],
   "source": [
    "#Tensorflow2.x GradientTape \n",
    "import tensorflow as tf\n",
    "w = tf.Variable([[1.0]])\n",
    "with tf.GradientTape() as tape:\n",
    "    loss = w * w\n",
    "\n",
    "grad = tape.gradient(loss, w) #loss + w\n",
    "print(grad)  "
   ]
  },
  {
   "cell_type": "code",
   "execution_count": 5,
   "metadata": {},
   "outputs": [
    {
     "data": {
      "text/plain": [
       "<tf.Tensor: shape=(), dtype=float32, numpy=2.0>"
      ]
     },
     "execution_count": 5,
     "metadata": {},
     "output_type": "execute_result"
    }
   ],
   "source": [
    "#Tensorflow2.x GradientTape (高階多次)\n",
    "\n",
    "x = tf.constant( 3.0 )\n",
    "with tf. GradientTape () as g:\n",
    "    g.watch(x)\n",
    "    with tf. GradientTape () as gg:\n",
    "        gg.watch(x)\n",
    "        y = x * x\n",
    "        dy_dx = gg.gradient(y , x)       # y' = 2*x = 2*3 =6\n",
    "d2y_dx2 = g.gradient(dy_dx, x)   # y'' = 2\n",
    "d2y_dx2"
   ]
  },
  {
   "cell_type": "code",
   "execution_count": 6,
   "metadata": {},
   "outputs": [
    {
     "name": "stdout",
     "output_type": "stream",
     "text": [
      "Eager conv: 0.400636\n",
      "Function conv: 0.36041639999999997\n"
     ]
    }
   ],
   "source": [
    "#Tensorflow2.x Auto Graph\n",
    "import timeit \n",
    "conv_layer = tf.keras.layers.Conv2D(100, 3)\n",
    "\n",
    "@tf.function\n",
    "def conv_fn(image):\n",
    "    return conv_layer(image)\n",
    "\n",
    "image = tf.zeros([1, 200, 200, 100])\n",
    "\n",
    "# warm up\n",
    "conv_layer(image); conv_fn(image)\n",
    "print(\"Eager conv:\", timeit.timeit(lambda: conv_layer(image), number=10))\n",
    "print(\"Function conv:\", timeit.timeit(lambda: conv_fn(image), number=10))"
   ]
  },
  {
   "cell_type": "markdown",
   "metadata": {},
   "source": [
    "# TF2 MNIST 手寫 - 方式 1"
   ]
  },
  {
   "cell_type": "code",
   "execution_count": 67,
   "metadata": {},
   "outputs": [
    {
     "name": "stdout",
     "output_type": "stream",
     "text": [
      "weilly\n",
      "Extracting D:\\Python\\Tensorflow\\MNIST_data\\train-images-idx3-ubyte.gz\n",
      "Extracting D:\\Python\\Tensorflow\\MNIST_data\\train-labels-idx1-ubyte.gz\n",
      "Extracting D:\\Python\\Tensorflow\\MNIST_data\\t10k-images-idx3-ubyte.gz\n",
      "Extracting D:\\Python\\Tensorflow\\MNIST_data\\t10k-labels-idx1-ubyte.gz\n",
      "\n",
      "Loading MNIST DataBase\n",
      " train number= 55000 \n",
      " vakidation number= 5000 \n",
      " test number= 10000 \n",
      " train image shape (55000, 784) \n",
      " label image shape (55000, 10) \n",
      " train image size 784 \n",
      "\n",
      "epoch = 0 step = 0 loss = 52.46764373779297 accuracy = 0.0859375\n",
      "epoch = 0 step = 100 loss = 0.3262547254562378 accuracy = 0.7919244766235352\n",
      "epoch = 0 step = 200 loss = 0.18977691233158112 accuracy = 0.8636893630027771\n",
      "epoch = 0 step = 300 loss = 0.12529492378234863 accuracy = 0.8924937844276428\n",
      "epoch = 0 step = 400 loss = 0.08602237701416016 accuracy = 0.9088606834411621\n",
      "epoch = 1 step = 0 loss = 0.13571247458457947 accuracy = 0.9765625\n",
      "epoch = 1 step = 100 loss = 0.018650151789188385 accuracy = 0.9679765105247498\n",
      "epoch = 1 step = 200 loss = 0.0860435888171196 accuracy = 0.9717428684234619\n",
      "epoch = 1 step = 300 loss = 0.09035012125968933 accuracy = 0.9730845093727112\n",
      "epoch = 1 step = 400 loss = 0.1446564644575119 accuracy = 0.9738544225692749\n",
      "epoch = 2 step = 0 loss = 0.05030043423175812 accuracy = 0.9765625\n",
      "epoch = 2 step = 100 loss = 0.07122912257909775 accuracy = 0.981667697429657\n",
      "epoch = 2 step = 200 loss = 0.03376131132245064 accuracy = 0.9829757213592529\n",
      "epoch = 2 step = 300 loss = 0.07533683627843857 accuracy = 0.9829993844032288\n",
      "epoch = 2 step = 400 loss = 0.02805548533797264 accuracy = 0.9822319149971008\n",
      "epoch = 3 step = 0 loss = 0.015154607594013214 accuracy = 0.9921875\n",
      "epoch = 3 step = 100 loss = 0.01869659125804901 accuracy = 0.987082302570343\n",
      "epoch = 3 step = 200 loss = 0.10162217915058136 accuracy = 0.9879119992256165\n",
      "epoch = 3 step = 300 loss = 0.039229799062013626 accuracy = 0.9875415563583374\n",
      "epoch = 3 step = 400 loss = 0.17773689329624176 accuracy = 0.9872584342956543\n",
      "epoch = 4 step = 0 loss = 0.04757120460271835 accuracy = 0.9921875\n",
      "epoch = 4 step = 100 loss = 0.0400795117020607 accuracy = 0.9880878925323486\n",
      "epoch = 4 step = 200 loss = 0.041615959256887436 accuracy = 0.9894667267799377\n",
      "epoch = 4 step = 300 loss = 0.00814695656299591 accuracy = 0.9887873530387878\n",
      "epoch = 4 step = 400 loss = 0.10148444026708603 accuracy = 0.9877844452857971\n"
     ]
    }
   ],
   "source": [
    "import tensorflow as tf\n",
    "import tensorflow.keras.layers as layers\n",
    "import numpy as np\n",
    "import os\n",
    "\n",
    "from MNIST_data import input_data\n",
    "mnist = input_data.read_data_sets(\"D:\\Python\\Tensorflow\\MNIST_data\" , one_hot=True)\n",
    "#https://gist.github.com/haje01/14b0e5d8bd5428df781e#file-input_data-py\n",
    "\n",
    "print('\\nLoading MNIST DataBase\\n',\n",
    "      'train number=',mnist.train.num_examples,\"\\n\", 'vakidation number=',mnist.validation.num_examples,\"\\n\",\n",
    "      'test number=',mnist.test.num_examples,\"\\n\", 'train image shape', mnist.train.images.shape,\"\\n\",\n",
    "      'label image shape', mnist.train.labels.shape,\"\\n\", 'train image size' , mnist.train.images[0].size,\"\\n\")\n",
    "\n",
    "\n",
    "#---------------------------------------------------------------------------------------------------------------\n",
    "# 建立訓練神經網路之物件\n",
    "#---------------------------------------------------------------------------------------------------------------\n",
    "#Code : https://github.com/nishinomiya/tf2.0-mnist/blob/master/mninst_tf2.ipynb\n",
    "#概念 : https://medium.com/ai-academy-taiwan/%E4%BD%BF%E7%94%A8tensorflow-2-0%E5%89%B5%E5%BB%BAkeras%E6%A8%A1%E5%9E%8B%E7%9A%843%E7%A8%AE%E6%96%B9%E6%B3%95-b87b98832f9\n",
    "class trainer(object): \n",
    "    def __init__(self, inputs, outputs):\n",
    "        self.loss       = tf.keras.losses.SparseCategoricalCrossentropy()\n",
    "        self.accuracy   = tf.keras.metrics.SparseCategoricalAccuracy()\n",
    "        self.optimizer      = tf.keras.optimizers.Adam()\n",
    "        self.model_path = './my_model'\n",
    "        self.build_model(inputs, outputs)\n",
    "        self.checkpoint_prefix = os.path.join(self.model_path, \"ckpt\")\n",
    "        self.ckptroot = tf.train.Checkpoint(optimizer=self.optimizer, model=self.model)\n",
    "\n",
    "    def build_model(self, inputs, outputs) -> None:\n",
    "        \n",
    "        '''\n",
    "        inputs_ = layers.Input((inputs,))\n",
    "        x = layers.Dense(128, activation=\"relu\")(inputs_)\n",
    "        x = layers.Dense(64, activation=\"relu\")(x)\n",
    "        x = layers.Dense(outputs, activation=\"softmax\")(x)\n",
    "        self.model = tf.keras.models.Model(inputs_, x)\n",
    "        '''\n",
    "        inputs_ = layers.Input(shape=(28, 28,1))\n",
    "        C1_Conv = layers.Conv2D(filters=16,kernel_size=5, activation='relu')(inputs_)\n",
    "        C1_Pool = layers.MaxPooling2D(2, 2)(C1_Conv)\n",
    "        C2_Conv = layers.Conv2D(32, 5, activation = tf.nn.relu)(C1_Pool)\n",
    "        C2_Pool = layers.MaxPooling2D(2, 2)(C2_Conv)\n",
    "        flat1   = layers.Flatten()(C2_Pool)\n",
    "        Dense1  = layers.Dense((7*7*36), activation = tf.nn.relu)(flat1)\n",
    "        Dropout = layers.Dropout(0.3)(Dense1)\n",
    "        outputs = layers.Dense(10, activation=\"softmax\")(Dropout)\n",
    "        self.model = tf.keras.Model(inputs=inputs_, outputs=outputs)\n",
    "        \n",
    "\n",
    "    @tf.function\n",
    "    def train_step(self, x, y) -> float:\n",
    "        with tf.GradientTape() as tape:\n",
    "            prediction = self.model(x, training=True) #計算準確度\n",
    "            loss = self.loss(y, prediction) #計算損失\n",
    "        \n",
    "        graidents = tape.gradient(loss, self.model.trainable_weights) #紀錄梯度資訊\n",
    "        self.optimizer.apply_gradients(zip(graidents, self.model.trainable_weights)) #最佳化\n",
    "        self.accuracy.update_state(y, prediction)\n",
    "        return loss\n",
    "    \n",
    "    def train(self, dataset, epochs) -> None:\n",
    "        for epoch in range(epochs):\n",
    "            self.accuracy.reset_states()\n",
    "            for step, (x, y) in enumerate(dataset):\n",
    "                loss = self.train_step(x, y) #批次訓練\n",
    "                if step % 100 == 0:\n",
    "                    print(\"epoch = {} step = {} loss = {} accuracy = {}\".format(epoch, step, loss, self.accuracy.result()))\n",
    "\n",
    "    def save(self) -> None:\n",
    "        self.ckptroot.save(self.checkpoint_prefix)\n",
    "  \n",
    "    def load(self) -> None:\n",
    "        self.ckptroot.restore(tf.train.latest_checkpoint(self.model_path))\n",
    "\n",
    "        \n",
    "(x_train, y_train), (x_test, y_test) = tf.keras.datasets.mnist.load_data()\n",
    "x_train = x_train.astype(np.float32).reshape(-1, 28,28) \n",
    "x_train = np.expand_dims(x_train, axis=3)\n",
    "x_test = x_test.astype(np.float32).reshape(-1, 28,28) \n",
    "x_test = np.expand_dims(x_test, axis=3)\n",
    "\n",
    "train_dataset = tf.data.Dataset.from_tensor_slices((x_train, y_train))\n",
    "train_dataset = train_dataset.shuffle(buffer_size=1024).batch(128)\n",
    "test_dataset  = tf.data.Dataset.from_tensor_slices((x_test, y_test))\n",
    "test_dataset  = test_dataset.batch(128)\n",
    "\n",
    "#train_dataset\n",
    "trainer = trainer(inputs=784, outputs=10)\n",
    "trainer.train(train_dataset, 5)"
   ]
  },
  {
   "cell_type": "code",
   "execution_count": 68,
   "metadata": {},
   "outputs": [
    {
     "data": {
      "text/plain": [
       "<Figure size 1440x288 with 0 Axes>"
      ]
     },
     "metadata": {},
     "output_type": "display_data"
    },
    {
     "data": {
      "image/png": "[encoded data removed]",
      "text/plain": [
       "<Figure size 432x288 with 1 Axes>"
      ]
     },
     "metadata": {
      "needs_background": "light"
     },
     "output_type": "display_data"
    },
    {
     "data": {
      "image/png": "[encoded data removed]",
      "text/plain": [
       "<Figure size 432x288 with 1 Axes>"
      ]
     },
     "metadata": {
      "needs_background": "light"
     },
     "output_type": "display_data"
    },
    {
     "data": {
      "image/png": "[encoded data removed]",
      "text/plain": [
       "<Figure size 432x288 with 1 Axes>"
      ]
     },
     "metadata": {
      "needs_background": "light"
     },
     "output_type": "display_data"
    },
    {
     "data": {
      "image/png": "[encoded data removed]",
      "text/plain": [
       "<Figure size 432x288 with 1 Axes>"
      ]
     },
     "metadata": {
      "needs_background": "light"
     },
     "output_type": "display_data"
    },
    {
     "data": {
      "image/png": "[encoded data removed]",
      "text/plain": [
       "<Figure size 432x288 with 1 Axes>"
      ]
     },
     "metadata": {
      "needs_background": "light"
     },
     "output_type": "display_data"
    }
   ],
   "source": [
    "import matplotlib.pyplot as plt\n",
    "\n",
    "def plt_mnist(x, y, plt_num=5):\n",
    "    plt.figure(figsize=(20,4))\n",
    "    for index, (image, label) in enumerate(zip(x[0:plt_num], y[0:plt_num])):\n",
    "        plt.figure()\n",
    "        plt.imshow(np.reshape(image, (28,28)), cmap=plt.cm.gray)\n",
    "        plt.title('{}: label: {}\\n'.format('Predict', label), fontsize = 20)\n",
    "\n",
    "predict_ = trainer.model.predict(x_test)\n",
    "predict = [tf.argmax(e).numpy() for e in predict_]\n",
    "plt_mnist(x_test, predict)"
   ]
  },
  {
   "cell_type": "markdown",
   "metadata": {},
   "source": [
    "# TF2 MNIST 手寫 - 方式 2 "
   ]
  },
  {
   "cell_type": "code",
   "execution_count": 133,
   "metadata": {},
   "outputs": [
    {
     "name": "stdout",
     "output_type": "stream",
     "text": [
      "weilly\n",
      "Extracting D:\\Python\\Tensorflow\\MNIST_data\\train-images-idx3-ubyte.gz\n",
      "Extracting D:\\Python\\Tensorflow\\MNIST_data\\train-labels-idx1-ubyte.gz\n",
      "Extracting D:\\Python\\Tensorflow\\MNIST_data\\t10k-images-idx3-ubyte.gz\n",
      "Extracting D:\\Python\\Tensorflow\\MNIST_data\\t10k-labels-idx1-ubyte.gz\n",
      "\n",
      "Loading MNIST DataBase\n",
      " train number= 55000 \n",
      " vakidation number= 5000 \n",
      " test number= 10000 \n",
      " train image shape (55000, 784) \n",
      " label image shape (55000, 10) \n",
      " train image size 784 \n",
      "\n",
      "Epoch 1, Loss: 0.968518078, Accuracy: 0.8912333250045776, Test Loss: 0.135088325, Test Accuracy: 0.9591000080108643\n",
      "\n",
      "Epoch 2, Loss: 0.100857645, Accuracy: 0.9713833332061768, Test Loss: 0.085203849, Test Accuracy: 0.975600004196167\n",
      "\n",
      "Epoch 3, Loss: 0.059101537, Accuracy: 0.9824666380882263, Test Loss: 0.075706191, Test Accuracy: 0.9782000184059143\n",
      "\n",
      "Epoch 4, Loss: 0.040149245, Accuracy: 0.9876000285148621, Test Loss: 0.068410873, Test Accuracy: 0.9811000227928162\n",
      "\n",
      "Epoch 5, Loss: 0.029953759, Accuracy: 0.9901833534240723, Test Loss: 0.071461827, Test Accuracy: 0.9815000295639038\n",
      "\n",
      "Epoch 6, Loss: 0.025035741, Accuracy: 0.9919333457946777, Test Loss: 0.069822550, Test Accuracy: 0.9829000234603882\n",
      "\n",
      "Epoch 7, Loss: 0.027389862, Accuracy: 0.9911333322525024, Test Loss: 0.070594087, Test Accuracy: 0.9860000014305115\n",
      "\n",
      "Epoch 8, Loss: 0.025557403, Accuracy: 0.9915833473205566, Test Loss: 0.063838944, Test Accuracy: 0.9864000082015991\n",
      "\n",
      "Epoch 9, Loss: 0.023348134, Accuracy: 0.9929166436195374, Test Loss: 0.078346975, Test Accuracy: 0.9840999841690063\n",
      "\n",
      "Epoch 10, Loss: 0.019994460, Accuracy: 0.9934166669845581, Test Loss: 0.072217271, Test Accuracy: 0.9861000180244446\n",
      "\n",
      "Epoch 11, Loss: 0.022763822, Accuracy: 0.9928833246231079, Test Loss: 0.081392594, Test Accuracy: 0.983299970626831\n",
      "\n",
      "Epoch 12, Loss: 0.022636151, Accuracy: 0.9933333396911621, Test Loss: 0.078634910, Test Accuracy: 0.9850000143051147\n",
      "\n",
      "Epoch 13, Loss: 0.018764243, Accuracy: 0.9938833117485046, Test Loss: 0.086635523, Test Accuracy: 0.9835000038146973\n",
      "\n",
      "Epoch 14, Loss: 0.022741549, Accuracy: 0.993483304977417, Test Loss: 0.096656822, Test Accuracy: 0.982200026512146\n",
      "\n",
      "Epoch 15, Loss: 0.020733830, Accuracy: 0.9937999844551086, Test Loss: 0.080532886, Test Accuracy: 0.9847000241279602\n",
      "\n",
      "Epoch 16, Loss: 0.018571202, Accuracy: 0.9944333434104919, Test Loss: 0.098350778, Test Accuracy: 0.9839000105857849\n",
      "\n",
      "Epoch 17, Loss: 0.017400388, Accuracy: 0.9950166940689087, Test Loss: 0.091972008, Test Accuracy: 0.9858999848365784\n",
      "\n",
      "Epoch 18, Loss: 0.014974700, Accuracy: 0.9954333305358887, Test Loss: 0.079333097, Test Accuracy: 0.9873999953269958\n",
      "\n",
      "Epoch 19, Loss: 0.017526189, Accuracy: 0.9951833486557007, Test Loss: 0.096258886, Test Accuracy: 0.9846000075340271\n",
      "\n",
      "Epoch 20, Loss: 0.015368071, Accuracy: 0.9954833388328552, Test Loss: 0.082973272, Test Accuracy: 0.9879999756813049\n",
      "\n"
     ]
    }
   ],
   "source": [
    "#範例2 : https://weikaiwei.com/tf/tensorflow-2-mnist-2/\n",
    "#https://github.com/PacktPublishing/Advanced-Deep-Learning-with-Keras/blob/master/chapter2-deep-networks/cnn-functional-2.1.1.py\n",
    "#---------------------------------------------------------------------------------------------------------------\n",
    "# 讀取手寫識別數據\n",
    "#---------------------------------------------------------------------------------------------------------------\n",
    "import tensorflow as tf\n",
    "import tensorflow.keras.layers as layers\n",
    "import numpy as np \n",
    "import os\n",
    "from MNIST_data import input_data\n",
    "mnist = input_data.read_data_sets(\"D:\\Python\\Tensorflow\\MNIST_data\" , one_hot=True)\n",
    "\n",
    "print('\\nLoading MNIST DataBase\\n',\n",
    "      'train number=',mnist.train.num_examples,\"\\n\", 'vakidation number=',mnist.validation.num_examples,\"\\n\",\n",
    "      'test number=',mnist.test.num_examples,\"\\n\", 'train image shape', mnist.train.images.shape,\"\\n\",\n",
    "      'label image shape', mnist.train.labels.shape,\"\\n\", 'train image size' , mnist.train.images[0].size,\"\\n\")\n",
    "\n",
    "\n",
    "#---------------------------------------------------------------------------------------------------------------\n",
    "# 建立 卷積神經網路(動態圖)\n",
    "#---------------------------------------------------------------------------------------------------------------\n",
    "inputs_ = layers.Input(shape=(28, 28,1))\n",
    "C1_Conv = layers.Conv2D(filters=16,kernel_size=5, activation='relu')(inputs_)\n",
    "C1_Pool = layers.MaxPooling2D(2, 2)(C1_Conv)\n",
    "C2_Conv = layers.Conv2D(32, 5, activation = tf.nn.relu)(C1_Pool)\n",
    "C2_Pool = layers.MaxPooling2D(2, 2)(C2_Conv)\n",
    "flat1   = layers.Flatten()(C2_Pool)\n",
    "Dense1  = layers.Dense(128, activation = tf.nn.relu)(flat1)\n",
    "Dropout = layers.Dropout(0.3)(Dense1)\n",
    "outputs = layers.Dense(10, activation=\"softmax\")(Dropout)\n",
    "model   = tf.keras.Model(inputs=inputs_, outputs=outputs)\n",
    "\n",
    "#---------------------------------------------------------------------------------------------------------------\n",
    "# 建立卷積神經網路(訓練模型)\n",
    "#---------------------------------------------------------------------------------------------------------------\n",
    "\n",
    "#建構訓練資料\n",
    "(x_train, y_train), (x_test, y_test) = tf.keras.datasets.mnist.load_data()\n",
    "\n",
    "x_train = x_train.astype(np.float32).reshape(-1, 28, 28) \n",
    "x_train = np.expand_dims(x_train, axis=3)\n",
    "train_dataset = tf.data.Dataset.from_tensor_slices((x_train, y_train))\n",
    "train_dataset = train_dataset.shuffle(buffer_size=1024).batch(128)\n",
    "\n",
    "x_test = x_test.astype(np.float32).reshape(-1, 28, 28) \n",
    "x_test = np.expand_dims(x_test, axis=3)\n",
    "test_dataset  = tf.data.Dataset.from_tensor_slices((x_test, y_test))\n",
    "test_dataset  = test_dataset.batch(128)\n",
    "\n",
    "#設定訓練網路(函式、變數)\n",
    "loss_object = tf.keras.losses.SparseCategoricalCrossentropy()\n",
    "optimizer = tf.keras.optimizers.Adam()\n",
    "train_loss = tf.keras.metrics.Mean(name='train_loss')\n",
    "train_accuracy = tf.keras.metrics.SparseCategoricalAccuracy(name='train_accuracy')\n",
    "test_loss = tf.keras.metrics.Mean(name='test_loss')\n",
    "test_accuracy = tf.keras.metrics.SparseCategoricalAccuracy(name='test_accuracy')\n",
    "\n",
    "@tf.function\n",
    "def train_step(image, label):\n",
    "    with tf.GradientTape() as tape:\n",
    "        predictions = model(image)\n",
    "        loss = loss_object(label, predictions)\n",
    "    gradients = tape.gradient(loss, model.trainable_variables)\n",
    "    optimizer.apply_gradients(zip(gradients, model.trainable_variables))\n",
    "    train_loss(loss)\n",
    "    train_accuracy(label, predictions)\n",
    "    \n",
    "@tf.function #啟動動態圖\n",
    "def test_step(images, labels):\n",
    "    # forward pass to get predictions\n",
    "    predictions = model(images)\n",
    "    # compute loss with the ground and our predictions\n",
    "    t_loss = loss_object(labels, predictions)\n",
    "    test_loss(t_loss)\n",
    "    test_accuracy(labels, predictions)\n",
    "\n",
    "#開始訓練模型 tranning model\n",
    "epoch_list=[];accuracy_list=[];loss_list=[];    \n",
    "for epoch in range(20):\n",
    "    for image, label in train_dataset:\n",
    "        train_step(image, label)\n",
    "        \n",
    "    for test_images, test_labels in test_dataset:\n",
    "        test_step(test_images, test_labels)    \n",
    "        \n",
    "    template = 'Epoch {}, Loss: {:.9f}, Accuracy: {}, Test Loss: {:.9f}, Test Accuracy: {}\\n'\n",
    "    print(template.format(epoch+1,\n",
    "                          train_loss.result(),\n",
    "                          train_accuracy.result(),\n",
    "                          test_loss.result(),\n",
    "                          test_accuracy.result()))\n",
    "    \n",
    "    epoch_list.append(epoch)\n",
    "    loss_list.append(format(train_loss.result()))\n",
    "    accuracy_list.append(format(train_accuracy.result()))\n",
    "    \n",
    "    # Reset the metrics for the next epoch\n",
    "    train_loss.reset_states()\n",
    "    train_accuracy.reset_states()\n",
    "    test_loss.reset_states()\n",
    "    test_accuracy.reset_states()   "
   ]
  },
  {
   "cell_type": "code",
   "execution_count": 134,
   "metadata": {},
   "outputs": [
    {
     "data": {
      "image/png": "[encoded data removed]",
      "text/plain": [
       "<Figure size 576x576 with 5 Axes>"
      ]
     },
     "metadata": {
      "needs_background": "light"
     },
     "output_type": "display_data"
    }
   ],
   "source": [
    "import matplotlib.pyplot as plt\n",
    "\n",
    "def plt_mnist(x, y, plt_num=5):\n",
    "    plt.figure(figsize=(8,8))\n",
    "    for index, (image, label) in enumerate(zip(x[0:plt_num], y[0:plt_num])):\n",
    "        #plt.figure()\n",
    "        plt.subplot(2, 3, (index+1))\n",
    "        plt.imshow(np.reshape(image, (28,28)), cmap=plt.cm.gray)\n",
    "        plt.title('{}: label: {}\\n'.format('Predict', label), fontsize = 10)\n",
    "\n",
    "predict_ = model.predict(x_test)\n",
    "predict = [tf.argmax(e).numpy() for e in predict_]\n",
    "plt_mnist(x_test, predict)"
   ]
  },
  {
   "cell_type": "code",
   "execution_count": 135,
   "metadata": {
    "scrolled": false
   },
   "outputs": [
    {
     "data": {
      "image/png": "[encoded data removed]",
      "text/plain": [
       "<Figure size 288x144 with 1 Axes>"
      ]
     },
     "metadata": {
      "needs_background": "light"
     },
     "output_type": "display_data"
    },
    {
     "data": {
      "image/png": "[encoded data removed]",
      "text/plain": [
       "<Figure size 288x144 with 1 Axes>"
      ]
     },
     "metadata": {
      "needs_background": "light"
     },
     "output_type": "display_data"
    },
    {
     "name": "stdout",
     "output_type": "stream",
     "text": [
      "Predict Neural Network \n",
      " -------------------------------------------\n",
      "\n"
     ]
    }
   ],
   "source": [
    "#---------------------------------------------------------------------------------------------------------------\n",
    "# 預測結果\n",
    "#---------------------------------------------------------------------------------------------------------------\n",
    "import matplotlib.pyplot as plt\n",
    "\n",
    "# 顯示測試影像與正確的預測結果\n",
    "img_w = 28;img_h = 28\n",
    "def plot_images_labels_prediction(images,labels,prediction,idx,num=10):\n",
    "    fig = plt.gcf() #開畫布\n",
    "    fig.set_size_inches(12,14)\n",
    "    if num>25 : num=25\n",
    "    for i in range(0,num):\n",
    "        ax = plt.subplot(5,5,1+i) #選擇畫布內的位置\n",
    "        ax.imshow(np.reshape(images[idx],(img_w,img_h)),cmap='binary') #顯示影像\n",
    "        title = \"label=\"+str(np.argmax(labels[idx]))\n",
    "        if len(prediction)>0:\n",
    "            title+=\",predict\"+str(prediction[idx])\n",
    "        ax.set_title(title,fontsize=10)\n",
    "        ax.set_xticks([])\n",
    "        ax.set_yticks([])\n",
    "        idx+=1\n",
    "    plt.show()\n",
    "\n",
    "# 顯示測試影像與錯誤的預測結果\n",
    "def show_images_labels_predict_error(images,labels,prediction_result):\n",
    "    fig = plt.gcf()\n",
    "    fig.set_size_inches(8, 10)\n",
    "    i=0;j=0\n",
    "    while i<10:\n",
    "        if prediction_result[j]!=np.argmax(labels[j]):\n",
    "            ax=plt.subplot(5,5, 1+i)\n",
    "            ax.imshow(np.reshape(images[j],(28, 28)), cmap='binary')\n",
    "            ax.set_title(\"j=\"+str(j)+\",l=\" +str(np.argmax(labels[j]))+\",p=\"+str(prediction_result[j]),fontsize=9) \n",
    "            i=i+1  \n",
    "        j=j+1\n",
    "    plt.show()   \n",
    "# 繪出損失曲線\n",
    "def plot_loss_function(epoch_list, loss_list):\n",
    "    %matplotlib inline\n",
    "    import matplotlib.pyplot as plt\n",
    "    fig = plt.gcf()\n",
    "    fig.set_size_inches(4,2)\n",
    "    plt.plot(epoch_list,loss_list,label='loss')\n",
    "    plt.ylabel('loss')\n",
    "    plt.xlabel('epoch')\n",
    "    plt.legend(['loss'],loc='upper left')\n",
    "    plt.show()\n",
    "\n",
    "# 繪出準確曲線\n",
    "def plot_accuracy( epoch_list, accuracy_list):\n",
    "    %matplotlib inline\n",
    "    import matplotlib.pyplot as plt\n",
    "    fig = plt.gcf()\n",
    "    fig.set_size_inches(4,2)\n",
    "    plt.plot(epoch_list,accuracy_list,label='accuracy')\n",
    "    plt.ylim(0.8,1)\n",
    "    plt.ylabel('loss')\n",
    "    plt.xlabel('accuracy')\n",
    "    plt.legend()\n",
    "    plt.show()\n",
    "\n",
    "#繪出損失曲線與準確度\n",
    "plot_loss_function(epoch_list, loss_list)\n",
    "plot_accuracy(epoch_list, accuracy_list) \n",
    "#print(loss_list)\n",
    "\n",
    "#預測結果\n",
    "print('Predict Neural Network \\n','-------------------------------------------\\n')\n",
    "#prediction_result=sess.run(tf.argmax(y_predict,1),feed_dict={x: mnist.test.images ,y_label: mnist.test.labels})\n",
    "#plot_images_labels_prediction(mnist.test.images, mnist.test.labels,prediction_result,0) #顯示前 10 筆\n"
   ]
  },
  {
   "cell_type": "code",
   "execution_count": 139,
   "metadata": {},
   "outputs": [
    {
     "name": "stdout",
     "output_type": "stream",
     "text": [
      "INFO:tensorflow:Assets written to: Tensorflow_2_HandWrite\\assets\n"
     ]
    }
   ],
   "source": [
    "#---------------------------------------------------------------------------------------------------------------\n",
    "# 儲存模組\n",
    "#---------------------------------------------------------------------------------------------------------------\n",
    "tf.saved_model.save(model, \"Tensorflow_2_HandWrite\")"
   ]
  },
  {
   "cell_type": "code",
   "execution_count": 146,
   "metadata": {},
   "outputs": [
    {
     "name": "stdout",
     "output_type": "stream",
     "text": [
      "WARNING:tensorflow:From D:\\ProgramData\\Anaconda3\\envs\\tensorflow\\lib\\site-packages\\tensorflow_core\\lite\\python\\convert_saved_model.py:60: load (from tensorflow.python.saved_model.loader_impl) is deprecated and will be removed in a future version.\n",
      "Instructions for updating:\n",
      "This function will only be available through the v1 compatibility library as tf.compat.v1.saved_model.loader.load or tf.compat.v1.saved_model.load. There will be a new function for importing SavedModels in Tensorflow 2.0.\n",
      "INFO:tensorflow:Restoring parameters from Tensorflow_2_HandWrite\\variables\\variables\n",
      "INFO:tensorflow:The given SavedModel MetaGraphDef contains SignatureDefs with the following keys: {'__saved_model_init_op', 'serving_default'}\n",
      "INFO:tensorflow:input tensors info: \n",
      "INFO:tensorflow:Tensor's key in saved_model's tensor_map: input_1\n",
      "INFO:tensorflow: tensor name: serving_default_input_1:0, shape: (-1, 28, 28, 1), type: DT_FLOAT\n",
      "INFO:tensorflow:output tensors info: \n",
      "INFO:tensorflow:Tensor's key in saved_model's tensor_map: dense_1\n",
      "INFO:tensorflow: tensor name: StatefulPartitionedCall:0, shape: (-1, 10), type: DT_FLOAT\n",
      "INFO:tensorflow:Restoring parameters from Tensorflow_2_HandWrite\\variables\\variables\n",
      "WARNING:tensorflow:From D:\\ProgramData\\Anaconda3\\envs\\tensorflow\\lib\\site-packages\\tensorflow_core\\lite\\python\\util.py:267: convert_variables_to_constants (from tensorflow.python.framework.graph_util_impl) is deprecated and will be removed in a future version.\n",
      "Instructions for updating:\n",
      "Use `tf.compat.v1.graph_util.convert_variables_to_constants`\n",
      "WARNING:tensorflow:From D:\\ProgramData\\Anaconda3\\envs\\tensorflow\\lib\\site-packages\\tensorflow_core\\python\\framework\\graph_util_impl.py:277: extract_sub_graph (from tensorflow.python.framework.graph_util_impl) is deprecated and will be removed in a future version.\n",
      "Instructions for updating:\n",
      "Use `tf.compat.v1.graph_util.extract_sub_graph`\n",
      "INFO:tensorflow:Froze 8 variables.\n",
      "INFO:tensorflow:Converted 8 variables to const ops.\n"
     ]
    },
    {
     "name": "stderr",
     "output_type": "stream",
     "text": [
      "Use '@tf.function' or '@defun' to decorate the function.Use '@tf.function' or '@defun' to decorate the function.Use '@tf.function' or '@defun' to decorate the function.Use '@tf.function' or '@defun' to decorate the function.Use '@tf.function' or '@defun' to decorate the function.Use '@tf.function' or '@defun' to decorate the function.Use '@tf.function' or '@defun' to decorate the function.Use '@tf.function' or '@defun' to decorate the function.Use '@tf.function' or '@defun' to decorate the function.Use '@tf.function' or '@defun' to decorate the function.Use '@tf.function' or '@defun' to decorate the function.Use '@tf.function' or '@defun' to decorate the function.Use '@tf.function' or '@defun' to decorate the function.Use '@tf.function' or '@defun' to decorate the function.Use '@tf.function' or '@defun' to decorate the function.Use '@tf.function' or '@defun' to decorate the function.Use '@tf.function' or '@defun' to decorate the function.Use '@tf.function' or '@defun' to decorate the function.Use '@tf.function' or '@defun' to decorate the function."
     ]
    }
   ],
   "source": [
    "#---------------------------------------------------------------------------------------------------------------\n",
    "# 轉成 Tensorflow Lite\n",
    "#---------------------------------------------------------------------------------------------------------------\n",
    "import tensorflow as tf\n",
    "import numpy as np\n",
    "def representative_dataset_gen():\n",
    "    for _ in range(250):\n",
    "        yield [np.random.uniform(0.0, 1.0, size=(1, 28, 28, 1)).astype(np.float32)] #需要輸入端大小\n",
    "        \n",
    "converter = tf.compat.v1.lite.TFLiteConverter.from_saved_model(\"Tensorflow_2_HandWrite\")\n",
    "converter.optimizations = [tf.lite.Optimize.DEFAULT]\n",
    "converter.target_spec.supported_ops = [tf.lite.OpsSet.TFLITE_BUILTINS_INT8]\n",
    "converter.inference_input_type   = tf.uint8\n",
    "converter.inference_output_type  = tf.uint8\n",
    "converter.representative_dataset = representative_dataset_gen\n",
    "tflite_model = converter.convert()\n",
    "with open('tf2_handwrite_model_qunat_uint8.tflite','wb') as f:\n",
    "    f.write(tflite_model)"
   ]
  },
  {
   "cell_type": "markdown",
   "metadata": {},
   "source": [
    "# TF2 Keras"
   ]
  },
  {
   "cell_type": "code",
   "execution_count": 155,
   "metadata": {},
   "outputs": [
    {
     "name": "stdout",
     "output_type": "stream",
     "text": [
      "\n",
      "Loading MNIST DataBase\n",
      " train number = 60000 \n",
      " test  number = 10000 \n",
      " train image shape (60000, 28, 28, 1) \n",
      " label image shape (60000,) \n",
      " train image size 784 \n",
      "\n",
      "Train on 60000 samples, validate on 10000 samples\n",
      "Epoch 1/10\n",
      "60000/60000 [==============================] - 31s 509us/step - loss: 0.1824 - accuracy: 0.9452 - val_loss: 0.0643 - val_accuracy: 0.9782\n",
      "Epoch 2/10\n",
      "60000/60000 [==============================] - 37s 614us/step - loss: 0.0500 - accuracy: 0.9844 - val_loss: 0.0384 - val_accuracy: 0.9871\n",
      "Epoch 3/10\n",
      "60000/60000 [==============================] - 36s 603us/step - loss: 0.0355 - accuracy: 0.9890 - val_loss: 0.0329 - val_accuracy: 0.9887\n",
      "Epoch 4/10\n",
      "60000/60000 [==============================] - 37s 624us/step - loss: 0.0269 - accuracy: 0.9915 - val_loss: 0.0295 - val_accuracy: 0.9912\n",
      "Epoch 5/10\n",
      "60000/60000 [==============================] - 40s 660us/step - loss: 0.0209 - accuracy: 0.9937 - val_loss: 0.0283 - val_accuracy: 0.9910\n",
      "Epoch 6/10\n",
      "60000/60000 [==============================] - 41s 683us/step - loss: 0.0164 - accuracy: 0.9949 - val_loss: 0.0276 - val_accuracy: 0.9906\n",
      "Epoch 7/10\n",
      "60000/60000 [==============================] - 40s 668us/step - loss: 0.0130 - accuracy: 0.9959 - val_loss: 0.0331 - val_accuracy: 0.9898\n",
      "Epoch 8/10\n",
      "60000/60000 [==============================] - 40s 669us/step - loss: 0.0112 - accuracy: 0.9962 - val_loss: 0.0285 - val_accuracy: 0.9922\n",
      "Epoch 9/10\n",
      "60000/60000 [==============================] - 39s 654us/step - loss: 0.0090 - accuracy: 0.9971 - val_loss: 0.0341 - val_accuracy: 0.9914\n",
      "Epoch 10/10\n",
      "60000/60000 [==============================] - 39s 655us/step - loss: 0.0081 - accuracy: 0.9970 - val_loss: 0.0311 - val_accuracy: 0.9916\n"
     ]
    }
   ],
   "source": [
    "#---------------------------------------------------------------------------------------------------------------\n",
    "# 載入函式庫\n",
    "#---------------------------------------------------------------------------------------------------------------\n",
    "import keras\n",
    "from keras.datasets import mnist\n",
    "from keras.models import Sequential\n",
    "from keras.layers import Dense, Dropout, LeakyReLU, Conv2D\n",
    "import numpy as np\n",
    "\n",
    "#---------------------------------------------------------------------------------------------------------------\n",
    "# 讀取手寫識別數據\n",
    "#---------------------------------------------------------------------------------------------------------------\n",
    "(x_train, y_train), (x_test, y_test) = mnist.load_data()\n",
    "x_train = x_train.reshape(60000, 28,28,1).astype('float32') /255\n",
    "x_test  = x_test.reshape(10000, 28,28,1).astype('float32') /255\n",
    "print('\\nLoading MNIST DataBase\\n',\n",
    "      'train number =',x_train.shape[0],\"\\n\", 'test  number =',x_test.shape[0],\"\\n\", \n",
    "      'train image shape', x_train.shape,\"\\n\",'label image shape', y_train.shape,\"\\n\", \n",
    "      'train image size' , x_train.shape[1]*x_train.shape[2],\"\\n\")\n",
    "\n",
    "\n",
    "#---------------------------------------------------------------------------------------------------------------\n",
    "# 將標籤轉換為熱編碼(hot-code)\n",
    "#---------------------------------------------------------------------------------------------------------------\n",
    "num_classes = 10\n",
    "y_train_onehot = keras.utils.to_categorical(y_train, num_classes)\n",
    "y_test_onehot = keras.utils.to_categorical(y_test, num_classes)\n",
    "\n",
    "#---------------------------------------------------------------------------------------------------------------\n",
    "# 建立神經網路架構\n",
    "#---------------------------------------------------------------------------------------------------------------\n",
    "model = Sequential()\n",
    "model.add(Conv2D(filters=16,kernel_size=(5,5),padding='same',input_shape=(28,28,1),activation='relu'))\n",
    "model.add(MaxPooling2D(pool_size=(2,2)))\n",
    "model.add(Conv2D(filters=36,kernel_size=(5,5),padding='same',activation='relu'))\n",
    "model.add(MaxPooling2D(pool_size=(2,2)))\n",
    "model.add(Dropout(0.25))\n",
    "model.add(Flatten())\n",
    "model.add(Dense(128,activation='relu'))\n",
    "model.add(Dropout(0.25))\n",
    "model.add(Dense(10,activation='softmax'))\n",
    "\n",
    "#---------------------------------------------------------------------------------------------------------------\n",
    "# 訓練神經網路架構\n",
    "#---------------------------------------------------------------------------------------------------------------\n",
    "#最佳化設定 optimizer\n",
    "model.compile(loss='categorical_crossentropy',\n",
    "              optimizer='adam',\n",
    "              metrics=['accuracy'])\n",
    "\n",
    "#fit\n",
    "batch_size = 100\n",
    "epochs = 10\n",
    "history = model.fit(x_train, y_train_onehot,\n",
    "                    batch_size=batch_size,\n",
    "                    epochs=epochs,\n",
    "                    verbose=1,\n",
    "                    validation_data=(x_test, y_test_onehot))"
   ]
  },
  {
   "cell_type": "code",
   "execution_count": 123,
   "metadata": {},
   "outputs": [
    {
     "data": {
      "text/plain": [
       "array([[0., 0., 0., 0., 0., 1., 0., 0., 0., 0.],\n",
       "       [1., 0., 0., 0., 0., 0., 0., 0., 0., 0.],\n",
       "       [0., 0., 0., 0., 1., 0., 0., 0., 0., 0.],\n",
       "       [0., 1., 0., 0., 0., 0., 0., 0., 0., 0.],\n",
       "       [0., 0., 0., 0., 0., 0., 0., 0., 0., 1.],\n",
       "       [0., 0., 1., 0., 0., 0., 0., 0., 0., 0.],\n",
       "       [0., 1., 0., 0., 0., 0., 0., 0., 0., 0.],\n",
       "       [0., 0., 0., 1., 0., 0., 0., 0., 0., 0.],\n",
       "       [0., 1., 0., 0., 0., 0., 0., 0., 0., 0.],\n",
       "       [0., 0., 0., 0., 1., 0., 0., 0., 0., 0.]], dtype=float32)"
      ]
     },
     "execution_count": 123,
     "metadata": {},
     "output_type": "execute_result"
    }
   ],
   "source": [
    "#---------------------------------------------------------------------------------------------------------------\n",
    "# 顯示熱編碼\n",
    "#---------------------------------------------------------------------------------------------------------------\n",
    "print(y_train[:10])"
   ]
  },
  {
   "cell_type": "code",
   "execution_count": 88,
   "metadata": {},
   "outputs": [
    {
     "name": "stdout",
     "output_type": "stream",
     "text": [
      "Model: \"sequential_32\"\n",
      "_________________________________________________________________\n",
      "Layer (type)                 Output Shape              Param #   \n",
      "=================================================================\n",
      "conv2d_51 (Conv2D)           (None, 28, 28, 16)        416       \n",
      "_________________________________________________________________\n",
      "max_pooling2d_34 (MaxPooling (None, 14, 14, 16)        0         \n",
      "_________________________________________________________________\n",
      "conv2d_52 (Conv2D)           (None, 14, 14, 36)        14436     \n",
      "_________________________________________________________________\n",
      "max_pooling2d_35 (MaxPooling (None, 7, 7, 36)          0         \n",
      "_________________________________________________________________\n",
      "dropout_23 (Dropout)         (None, 7, 7, 36)          0         \n",
      "_________________________________________________________________\n",
      "flatten_14 (Flatten)         (None, 1764)              0         \n",
      "_________________________________________________________________\n",
      "dense_46 (Dense)             (None, 128)               225920    \n",
      "_________________________________________________________________\n",
      "dropout_24 (Dropout)         (None, 128)               0         \n",
      "_________________________________________________________________\n",
      "dense_47 (Dense)             (None, 10)                1290      \n",
      "=================================================================\n",
      "Total params: 242,062\n",
      "Trainable params: 242,062\n",
      "Non-trainable params: 0\n",
      "_________________________________________________________________\n"
     ]
    }
   ],
   "source": [
    "#---------------------------------------------------------------------------------------------------------------\n",
    "# 顯示模組架構\n",
    "#---------------------------------------------------------------------------------------------------------------\n",
    "model.summary()"
   ]
  },
  {
   "cell_type": "code",
   "execution_count": 131,
   "metadata": {
    "scrolled": true
   },
   "outputs": [
    {
     "name": "stdout",
     "output_type": "stream",
     "text": [
      "10000/10000 [==============================] - 1s 135us/step\n",
      "accuracy= 0.9919999837875366\n"
     ]
    },
    {
     "data": {
      "image/png": "[encoded data removed]",
      "text/plain": [
       "<Figure size 432x288 with 1 Axes>"
      ]
     },
     "metadata": {
      "needs_background": "light"
     },
     "output_type": "display_data"
    },
    {
     "data": {
      "image/png": "[encoded data removed]",
      "text/plain": [
       "<Figure size 432x288 with 1 Axes>"
      ]
     },
     "metadata": {
      "needs_background": "light"
     },
     "output_type": "display_data"
    },
    {
     "data": {
      "image/png": "[encoded data removed]",
      "text/plain": [
       "<Figure size 864x1008 with 10 Axes>"
      ]
     },
     "metadata": {},
     "output_type": "display_data"
    }
   ],
   "source": [
    "#---------------------------------------------------------------------------------------------------------------\n",
    "# 計算準確度\n",
    "#---------------------------------------------------------------------------------------------------------------\n",
    "scores = model.evaluate(x_test,y_test)\n",
    "print('accuracy=',scores[1])\n",
    "\n",
    "#---------------------------------------------------------------------------------------------------------------\n",
    "# 顯示訓練過程\n",
    "#---------------------------------------------------------------------------------------------------------------\n",
    "import matplotlib.pyplot as plt\n",
    "def show_train_history(train_history, train, validation):\n",
    "    plt.plot(train_history.history[train])\n",
    "    plt.plot(train_history.history[validation])\n",
    "    plt.title('Train History')\n",
    "    plt.ylabel(train)\n",
    "    plt.xlabel('Epoch')\n",
    "    plt.legend(['train','validation'], loc='upper left')\n",
    "    plt.show()\n",
    "\n",
    "    \n",
    "show_train_history(history,'accuracy','val_accuracy')   \n",
    "show_train_history(history,'loss','val_loss')\n",
    "\n",
    "#---------------------------------------------------------------------------------------------------------------\n",
    "# 預測結果\n",
    "#---------------------------------------------------------------------------------------------------------------\n",
    "def plot_images_labels_prediction(images,labels,prediction,idx,num=10):\n",
    "    fig = plt.gcf()\n",
    "    fig.set_size_inches(12,14)\n",
    "    images_reshape = images.reshape(images.shape[0], 28,28)\n",
    "    if num>25: num = 25\n",
    "    for i in range(0,num):\n",
    "        ax = plt.subplot(5,5,i+1)\n",
    "        ax.imshow(images_reshape[idx],cmap='binary')\n",
    "        title = \"label\"+str(labels[idx])\n",
    "        if len(prediction)>0:\n",
    "            title+=\"predict=\"+str(prediction[idx])\n",
    "        ax.set_title(title,fontsize=10)\n",
    "        ax.set_xticks([])\n",
    "        ax.set_yticks([])\n",
    "        idx+=1\n",
    "    plt.show()\n",
    "                     \n",
    "prediction = model.predict_classes(x_test)\n",
    "plot_images_labels_prediction(x_test, y_test,prediction, idx=340)"
   ]
  },
  {
   "cell_type": "code",
   "execution_count": 144,
   "metadata": {},
   "outputs": [],
   "source": [
    "#---------------------------------------------------------------------------------------------------------------\n",
    "# 儲存模組\n",
    "#---------------------------------------------------------------------------------------------------------------\n",
    "model.save('./tf2_keras_handwrite.h5')"
   ]
  },
  {
   "cell_type": "code",
   "execution_count": 172,
   "metadata": {},
   "outputs": [
    {
     "name": "stdout",
     "output_type": "stream",
     "text": [
      "WARNING:tensorflow:No training configuration found in save file: the model was *not* compiled. Compile it manually.\n"
     ]
    }
   ],
   "source": [
    "#---------------------------------------------------------------------------------------------------------------\n",
    "# 轉成 Tensorflow Lite\n",
    "#---------------------------------------------------------------------------------------------------------------\n",
    "import tensorflow as tf\n",
    "import numpy as np\n",
    "def representative_dataset_gen():\n",
    "    for _ in range(250):\n",
    "        yield [np.random.uniform(0.0, 1.0, size=(1, 28, 28, 1)).astype(np.float32)] #需要輸入端大小\n",
    "        \n",
    "#model=model.load_weights('tf2_keras_handwrite.h5')\n",
    "converter = tf.compat.v1.lite.TFLiteConverter.from_keras_model_file('tf2_keras_handwrite.h5')\n",
    "converter.optimizations = [tf.lite.Optimize.DEFAULT]\n",
    "converter.target_spec.supported_ops = [tf.lite.OpsSet.TFLITE_BUILTINS_INT8]\n",
    "converter.inference_input_type  = tf.uint8\n",
    "converter.inference_output_type = tf.uint8\n",
    "converter.representative_dataset = representative_dataset_gen\n",
    "tflite_model = converter.convert()\n",
    "with open('keras_handwrite_model_qunat_uint8.tflite','wb') as f:\n",
    "    f.write(tflite_model)\n"
   ]
  },
  {
   "cell_type": "code",
   "execution_count": 170,
   "metadata": {},
   "outputs": [],
   "source": [
    "#save\n",
    "open('tf2_keras_handwrite.json', 'w').write(model.to_json())\n",
    "\n",
    "#load\n",
    "from keras.models import model_from_json\n",
    "model = model_from_json(open('tf2_keras_handwrite.json').read())"
   ]
  }
 ],
 "metadata": {
  "kernelspec": {
   "display_name": "Python 3",
   "language": "python",
   "name": "python3"
  },
  "language_info": {
   "codemirror_mode": {
    "name": "ipython",
    "version": 3
   },
   "file_extension": ".py",
   "mimetype": "text/x-python",
   "name": "python",
   "nbconvert_exporter": "python",
   "pygments_lexer": "ipython3",
   "version": "3.6.10"
  }
 },
 "nbformat": 4,
 "nbformat_minor": 4
}
